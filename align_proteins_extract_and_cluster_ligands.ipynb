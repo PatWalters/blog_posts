{
 "cells": [
  {
   "cell_type": "markdown",
   "id": "7cf5676d",
   "metadata": {},
   "source": [
    "## Clustering Fragment Crystal Structures\n",
    "\n",
    "In this notebook we'll use a few Python libraries to analyze a set of fragment crystal structures reported in [Fragment binding to the Nsp3 macrodomain of SARS-CoV-2 identified through crystallographic screening and computational docking](https://www.science.org/doi/full/10.1126/sciadv.abf8711). Here's a brief outline of the workflow. \n",
    "- Download the x-ray structures from the PDB\n",
    "- Align the structures to a reference structures\n",
    "- Write the aligned protein structures to disk\n",
    "- Extract the ligands and assign bond orders\n",
    "- Write ligands to disk\n",
    "- Cluster using a Self-Organizing MAP (SOM)"
   ]
  },
  {
   "cell_type": "code",
   "execution_count": 1,
   "id": "6aa6ee4d",
   "metadata": {},
   "outputs": [],
   "source": [
    "from rdkit import Chem\n",
    "from rdkit.Chem import AllChem\n",
    "from rdkit.Chem import PandasTools\n",
    "import pandas as pd\n",
    "from prody import *\n",
    "from tqdm.auto import tqdm\n",
    "from io import StringIO\n",
    "from operator import itemgetter\n",
    "from rdkit import RDLogger \n",
    "import numpy as np\n",
    "from rdkit.Chem.rdMolTransforms import ComputeCentroid\n",
    "from minisom import MiniSom \n",
    "import seaborn as sns\n",
    "from glob import glob\n",
    "import os\n",
    "import useful_rdkit_utils as uru"
   ]
  },
  {
   "cell_type": "markdown",
   "id": "94e94fea",
   "metadata": {},
   "source": [
    "## 1. Setup"
   ]
  },
  {
   "cell_type": "markdown",
   "id": "3a8a6f3c",
   "metadata": {},
   "source": [
    "Enable Pandas progress_apply"
   ]
  },
  {
   "cell_type": "code",
   "execution_count": 2,
   "id": "5082da35",
   "metadata": {},
   "outputs": [],
   "source": [
    "tqdm.pandas()"
   ]
  },
  {
   "cell_type": "markdown",
   "id": "90db898c",
   "metadata": {},
   "source": [
    "A few utility functions to make life easier"
   ]
  },
  {
   "cell_type": "code",
   "execution_count": 3,
   "id": "cda4da6a",
   "metadata": {},
   "outputs": [],
   "source": [
    "def prody_ligand_bond_order(protein, res_name, res_smiles):\n",
    "    \"\"\"\n",
    "    Extract the ligand with the specified residue name from a Prody molecule and assign bond orders\n",
    "    :param protein: Prody protein\n",
    "    :param res_name: residue with the ligand\n",
    "    :param res_smiles: SMILES for the ligand, used for bond order assignment\n",
    "    :return: RDKit molecule with bond orders assigned\n",
    "    \"\"\"\n",
    "    output = StringIO()\n",
    "    sub_mol = protein.select(f\"resname {res_name}\")\n",
    "    template = AllChem.MolFromSmiles(res_smiles)\n",
    "    template = uru.get_largest_fragment(template)\n",
    "    writePDBStream(output, sub_mol)\n",
    "    pdb_string = output.getvalue()\n",
    "    rd_mol = AllChem.MolFromPDBBlock(pdb_string)\n",
    "    RDLogger.DisableLog('rdApp.warning')  \n",
    "    new_mol = AllChem.AssignBondOrdersFromTemplate(template, rd_mol)\n",
    "    RDLogger.EnableLog('rdApp.warning')  \n",
    "    return new_mol"
   ]
  },
  {
   "cell_type": "markdown",
   "id": "484379bb",
   "metadata": {},
   "source": [
    "## 2. Reading and Processing Data From the PDB\n",
    "### 2.1 Read the Input Data\n",
    "Read the spreadsheet with info on the fragments"
   ]
  },
  {
   "cell_type": "code",
   "execution_count": 4,
   "id": "c8595541",
   "metadata": {},
   "outputs": [],
   "source": [
    "df = pd.read_excel(\"https://raw.githubusercontent.com/PatWalters/datafiles/main/20211124_mac1_pdb_lig.xlsx\")"
   ]
  },
  {
   "cell_type": "markdown",
   "id": "b5cdaf03",
   "metadata": {},
   "source": [
    "Make Prody less chatty"
   ]
  },
  {
   "cell_type": "code",
   "execution_count": 5,
   "id": "5a98c728",
   "metadata": {},
   "outputs": [],
   "source": [
    "prody.confProDy(verbosity='critical')"
   ]
  },
  {
   "cell_type": "markdown",
   "id": "90f1c080",
   "metadata": {},
   "source": [
    "Set up a reference protein to align the other proteins to"
   ]
  },
  {
   "cell_type": "code",
   "execution_count": 6,
   "id": "7980f0c6",
   "metadata": {},
   "outputs": [],
   "source": [
    "ref_prot = prody.parsePDB('5RS7')\n",
    "ref_prot = ref_prot.select(\"chain A\")"
   ]
  },
  {
   "cell_type": "markdown",
   "id": "ef9a2eea",
   "metadata": {},
   "source": [
    "### 2.2 Extract Ligands and Assign Bond Orders\n",
    "1. Align each protein to the reference\n",
    "2. Extract the ligand and assign bond orders\n",
    "3. Build up a list of ligands"
   ]
  },
  {
   "cell_type": "code",
   "execution_count": 7,
   "id": "0d7e80a0",
   "metadata": {
    "scrolled": false
   },
   "outputs": [
    {
     "data": {
      "application/vnd.jupyter.widget-view+json": {
       "model_id": "e8aa73f3a39c4fd7902842ffcbcec928",
       "version_major": 2,
       "version_minor": 0
      },
      "text/plain": [
       "  0%|          | 0/235 [00:00<?, ?it/s]"
      ]
     },
     "metadata": {},
     "output_type": "display_data"
    }
   ],
   "source": [
    "rd_ligand_list = []\n",
    "for p,smi, res in tqdm(df[['PDB','SMILES','Ligand_RESID']].values):\n",
    "    prot = prody.parsePDB(p)\n",
    "    # break if we can't get the PDB\n",
    "    if prot is None:\n",
    "        continue\n",
    "    # loop over chains and find the first one with the specified ligand\n",
    "    hv = prot.getHierView()\n",
    "    for chain in hv:\n",
    "        if chain.select(f\"resname {res}\"):\n",
    "            # align to the reference\n",
    "            atommaps = prody.alignChains(chain, ref_prot)\n",
    "            top_atommap = atommaps[0]\n",
    "            torf_mapped = top_atommap.getFlags(\"mapped\")\n",
    "            prody.superpose(top_atommap, ref_prot, torf_mapped)\n",
    "            # save the aligned pdb\n",
    "            prody.writePDB(f\"{p}_aligned.pdb\",chain)\n",
    "            \n",
    "            # get the ligand and assign bond orders\n",
    "            rd_lig_mol = prody_ligand_bond_order(chain,res,smi)\n",
    "            rd_lig_mol.SetProp(\"Name\",p)\n",
    "            rd_lig_mol.SetProp(\"_Name\",p)\n",
    "            rd_ligand_list.append(rd_lig_mol)\n",
    "            break"
   ]
  },
  {
   "cell_type": "markdown",
   "id": "1f440d95",
   "metadata": {},
   "source": [
    "Let's see how many ligands we ended up with"
   ]
  },
  {
   "cell_type": "code",
   "execution_count": 8,
   "id": "9e579c5c",
   "metadata": {},
   "outputs": [
    {
     "data": {
      "text/plain": [
       "235"
      ]
     },
     "execution_count": 8,
     "metadata": {},
     "output_type": "execute_result"
    }
   ],
   "source": [
    "len(rd_ligand_list)"
   ]
  },
  {
   "cell_type": "markdown",
   "id": "4b7fa706",
   "metadata": {},
   "source": [
    "Save the ligands to a file"
   ]
  },
  {
   "cell_type": "code",
   "execution_count": 9,
   "id": "f7e959bb",
   "metadata": {},
   "outputs": [],
   "source": [
    "writer = Chem.SDWriter(\"ligs_complete.sdf\")\n",
    "for mol in rd_ligand_list:\n",
    "    writer.write(mol)\n",
    "writer.close()"
   ]
  },
  {
   "cell_type": "markdown",
   "id": "472eb5ac",
   "metadata": {},
   "source": [
    "### 2.3 Handle Multiple Ligands\n",
    "Some of the pdb files have multiple copies of the same ligand bound in different pockets.  Separate these into individual ligands "
   ]
  },
  {
   "cell_type": "code",
   "execution_count": 10,
   "id": "e992b6c5",
   "metadata": {},
   "outputs": [
    {
     "name": "stdout",
     "output_type": "stream",
     "text": [
      "Read 235 molecules containing 242 fragments\n"
     ]
    }
   ],
   "source": [
    "frag_mol_list = []\n",
    "for idx,mol in enumerate(rd_ligand_list,1):\n",
    "    name = mol.GetProp(\"Name\")\n",
    "    frag_list = Chem.GetMolFrags(mol,asMols=True)\n",
    "    for frag_idx,frag in enumerate(frag_list):\n",
    "        frag.SetProp(\"Name\",name)\n",
    "        frag.SetProp(\"Sequence\",str(frag_idx))\n",
    "        frag.SetProp(\"_Name\",name)\n",
    "        frag_mol_list.append(frag)\n",
    "print(f\"Read {idx} molecules containing {len(frag_mol_list)} fragments\")"
   ]
  },
  {
   "cell_type": "markdown",
   "id": "6ecbc96a",
   "metadata": {},
   "source": [
    "Write the separated ligands to a file"
   ]
  },
  {
   "cell_type": "code",
   "execution_count": 11,
   "id": "b443f472",
   "metadata": {},
   "outputs": [],
   "source": [
    "writer = Chem.SDWriter(\"ligs_separated.sdf\")\n",
    "for mol in frag_mol_list:\n",
    "    writer.write(mol)\n",
    "writer.close()"
   ]
  },
  {
   "cell_type": "markdown",
   "id": "65ebc49c",
   "metadata": {},
   "source": [
    "## 3. Calculate the Center of Each Ligand\n",
    "Create a dataframe with the ligands"
   ]
  },
  {
   "cell_type": "code",
   "execution_count": 12,
   "id": "057d54ad",
   "metadata": {},
   "outputs": [],
   "source": [
    "lig_df = pd.DataFrame({'ROMol' : frag_mol_list, \n",
    "                       'Name': [x.GetProp(\"Name\") for x in frag_mol_list],\n",
    "                       'Sequence': [x.GetProp(\"Sequence\") for x in frag_mol_list]\n",
    "                      })"
   ]
  },
  {
   "cell_type": "markdown",
   "id": "c9d69528",
   "metadata": {},
   "source": [
    "Calculate the geometric center for each ligand"
   ]
  },
  {
   "cell_type": "code",
   "execution_count": 13,
   "id": "019032a0",
   "metadata": {},
   "outputs": [
    {
     "data": {
      "application/vnd.jupyter.widget-view+json": {
       "model_id": "fae61facb2794b30b3dbb4772476449f",
       "version_major": 2,
       "version_minor": 0
      },
      "text/plain": [
       "  0%|          | 0/242 [00:00<?, ?it/s]"
      ]
     },
     "metadata": {},
     "output_type": "display_data"
    }
   ],
   "source": [
    "lig_df['center'] = lig_df.ROMol.progress_apply(uru.get_center)"
   ]
  },
  {
   "cell_type": "markdown",
   "id": "05a7f07f",
   "metadata": {},
   "source": [
    "Create a numpy array containing the ligand centers"
   ]
  },
  {
   "cell_type": "code",
   "execution_count": 14,
   "id": "f147fa69",
   "metadata": {},
   "outputs": [],
   "source": [
    "X = np.stack(lig_df.center)"
   ]
  },
  {
   "cell_type": "markdown",
   "id": "892a402c",
   "metadata": {},
   "source": [
    "## 4. Use a Self-Organizing Map (SOM) to Cluster the Ligands\n",
    "I've written blog posts [here](http://practicalcheminformatics.blogspot.com/2018/10/self-organizing-maps-90s-fad-or-useful.html) and [here](http://practicalcheminformatics.blogspot.com/2018/10/self-organizing-maps-code-part-2.html) about SOMs, so I won't provide additional background. \n",
    "\n",
    "Initialize the SOM"
   ]
  },
  {
   "cell_type": "code",
   "execution_count": 15,
   "id": "8558e422",
   "metadata": {},
   "outputs": [],
   "source": [
    "som = MiniSom(5,5,3, random_seed=1)\n",
    "som.train(X,1000)\n",
    "cell = [som.winner(i) for i in X]"
   ]
  },
  {
   "cell_type": "markdown",
   "id": "86be087e",
   "metadata": {},
   "source": [
    "Create column in the dataframe to hold the cell ids"
   ]
  },
  {
   "cell_type": "code",
   "execution_count": 16,
   "id": "e6707be8",
   "metadata": {},
   "outputs": [],
   "source": [
    "lig_df['cell'] = cell"
   ]
  },
  {
   "cell_type": "code",
   "execution_count": 17,
   "id": "6f071a06",
   "metadata": {},
   "outputs": [
    {
     "data": {
      "text/html": [
       "<div>\n",
       "<style scoped>\n",
       "    .dataframe tbody tr th:only-of-type {\n",
       "        vertical-align: middle;\n",
       "    }\n",
       "\n",
       "    .dataframe tbody tr th {\n",
       "        vertical-align: top;\n",
       "    }\n",
       "\n",
       "    .dataframe thead th {\n",
       "        text-align: right;\n",
       "    }\n",
       "</style>\n",
       "<table border=\"1\" class=\"dataframe\">\n",
       "  <thead>\n",
       "    <tr style=\"text-align: right;\">\n",
       "      <th></th>\n",
       "      <th>ROMol</th>\n",
       "      <th>Name</th>\n",
       "      <th>Sequence</th>\n",
       "      <th>center</th>\n",
       "      <th>cell</th>\n",
       "    </tr>\n",
       "  </thead>\n",
       "  <tbody>\n",
       "    <tr>\n",
       "      <th>0</th>\n",
       "      <td>&lt;img data-content=\"rdkit/molecule\" src=\"data:i...</td>\n",
       "      <td>5S18</td>\n",
       "      <td>0</td>\n",
       "      <td>[-46.35977777777778, -29.15244444444444, 5.655...</td>\n",
       "      <td>(0, 4)</td>\n",
       "    </tr>\n",
       "    <tr>\n",
       "      <th>1</th>\n",
       "      <td>&lt;img data-content=\"rdkit/molecule\" src=\"data:i...</td>\n",
       "      <td>5S1A</td>\n",
       "      <td>0</td>\n",
       "      <td>[-46.782, -29.431333333333335, 5.555111111111111]</td>\n",
       "      <td>(0, 4)</td>\n",
       "    </tr>\n",
       "    <tr>\n",
       "      <th>2</th>\n",
       "      <td>&lt;img data-content=\"rdkit/molecule\" src=\"data:i...</td>\n",
       "      <td>5S1C</td>\n",
       "      <td>0</td>\n",
       "      <td>[-51.103111111111104, -29.58822222222222, 6.88...</td>\n",
       "      <td>(0, 1)</td>\n",
       "    </tr>\n",
       "    <tr>\n",
       "      <th>3</th>\n",
       "      <td>&lt;img data-content=\"rdkit/molecule\" src=\"data:i...</td>\n",
       "      <td>5S1E</td>\n",
       "      <td>0</td>\n",
       "      <td>[-47.21622222222223, -29.391111111111115, 6.06...</td>\n",
       "      <td>(0, 4)</td>\n",
       "    </tr>\n",
       "    <tr>\n",
       "      <th>4</th>\n",
       "      <td>&lt;img data-content=\"rdkit/molecule\" src=\"data:i...</td>\n",
       "      <td>5S1G</td>\n",
       "      <td>0</td>\n",
       "      <td>[-49.989555555555555, -29.039666666666662, 5.6...</td>\n",
       "      <td>(0, 2)</td>\n",
       "    </tr>\n",
       "    <tr>\n",
       "      <th>...</th>\n",
       "      <td>...</td>\n",
       "      <td>...</td>\n",
       "      <td>...</td>\n",
       "      <td>...</td>\n",
       "      <td>...</td>\n",
       "    </tr>\n",
       "    <tr>\n",
       "      <th>237</th>\n",
       "      <td>&lt;img data-content=\"rdkit/molecule\" src=\"data:i...</td>\n",
       "      <td>5RVG</td>\n",
       "      <td>0</td>\n",
       "      <td>[-45.28672222222223, -30.09111111111111, 3.428...</td>\n",
       "      <td>(1, 4)</td>\n",
       "    </tr>\n",
       "    <tr>\n",
       "      <th>238</th>\n",
       "      <td>&lt;img data-content=\"rdkit/molecule\" src=\"data:i...</td>\n",
       "      <td>5RVG</td>\n",
       "      <td>1</td>\n",
       "      <td>[-50.292555555555545, -0.44227777777777777, -2...</td>\n",
       "      <td>(3, 2)</td>\n",
       "    </tr>\n",
       "    <tr>\n",
       "      <th>239</th>\n",
       "      <td>&lt;img data-content=\"rdkit/molecule\" src=\"data:i...</td>\n",
       "      <td>5RVH</td>\n",
       "      <td>0</td>\n",
       "      <td>[-48.91169230769231, -29.193538461538466, 4.94...</td>\n",
       "      <td>(1, 2)</td>\n",
       "    </tr>\n",
       "    <tr>\n",
       "      <th>240</th>\n",
       "      <td>&lt;img data-content=\"rdkit/molecule\" src=\"data:i...</td>\n",
       "      <td>5RVI</td>\n",
       "      <td>0</td>\n",
       "      <td>[-48.18218181818182, -29.067272727272723, 4.16...</td>\n",
       "      <td>(0, 3)</td>\n",
       "    </tr>\n",
       "    <tr>\n",
       "      <th>241</th>\n",
       "      <td>&lt;img data-content=\"rdkit/molecule\" src=\"data:i...</td>\n",
       "      <td>5RV1</td>\n",
       "      <td>0</td>\n",
       "      <td>[-42.75228571428572, -31.812857142857144, 1.50...</td>\n",
       "      <td>(2, 3)</td>\n",
       "    </tr>\n",
       "  </tbody>\n",
       "</table>\n",
       "<p>242 rows × 5 columns</p>\n",
       "</div>"
      ],
      "text/plain": [
       "                                                 ROMol  Name Sequence  \\\n",
       "0    <img data-content=\"rdkit/molecule\" src=\"data:i...  5S18        0   \n",
       "1    <img data-content=\"rdkit/molecule\" src=\"data:i...  5S1A        0   \n",
       "2    <img data-content=\"rdkit/molecule\" src=\"data:i...  5S1C        0   \n",
       "3    <img data-content=\"rdkit/molecule\" src=\"data:i...  5S1E        0   \n",
       "4    <img data-content=\"rdkit/molecule\" src=\"data:i...  5S1G        0   \n",
       "..                                                 ...   ...      ...   \n",
       "237  <img data-content=\"rdkit/molecule\" src=\"data:i...  5RVG        0   \n",
       "238  <img data-content=\"rdkit/molecule\" src=\"data:i...  5RVG        1   \n",
       "239  <img data-content=\"rdkit/molecule\" src=\"data:i...  5RVH        0   \n",
       "240  <img data-content=\"rdkit/molecule\" src=\"data:i...  5RVI        0   \n",
       "241  <img data-content=\"rdkit/molecule\" src=\"data:i...  5RV1        0   \n",
       "\n",
       "                                                center    cell  \n",
       "0    [-46.35977777777778, -29.15244444444444, 5.655...  (0, 4)  \n",
       "1    [-46.782, -29.431333333333335, 5.555111111111111]  (0, 4)  \n",
       "2    [-51.103111111111104, -29.58822222222222, 6.88...  (0, 1)  \n",
       "3    [-47.21622222222223, -29.391111111111115, 6.06...  (0, 4)  \n",
       "4    [-49.989555555555555, -29.039666666666662, 5.6...  (0, 2)  \n",
       "..                                                 ...     ...  \n",
       "237  [-45.28672222222223, -30.09111111111111, 3.428...  (1, 4)  \n",
       "238  [-50.292555555555545, -0.44227777777777777, -2...  (3, 2)  \n",
       "239  [-48.91169230769231, -29.193538461538466, 4.94...  (1, 2)  \n",
       "240  [-48.18218181818182, -29.067272727272723, 4.16...  (0, 3)  \n",
       "241  [-42.75228571428572, -31.812857142857144, 1.50...  (2, 3)  \n",
       "\n",
       "[242 rows x 5 columns]"
      ]
     },
     "execution_count": 17,
     "metadata": {},
     "output_type": "execute_result"
    }
   ],
   "source": [
    "lig_df"
   ]
  },
  {
   "cell_type": "markdown",
   "id": "8a253b6e",
   "metadata": {},
   "source": [
    "Create a dataframe to hold the occupied SOM cells"
   ]
  },
  {
   "cell_type": "code",
   "execution_count": 18,
   "id": "8f61928b",
   "metadata": {},
   "outputs": [],
   "source": [
    "cell_df = lig_df.cell.value_counts().to_frame().reset_index()\n",
    "cell_df.columns = [\"Cell\",\"Count\"]"
   ]
  },
  {
   "cell_type": "markdown",
   "id": "4cb39e47",
   "metadata": {},
   "source": [
    "Plot the SOM, the point size is proportional to the number of ligands in a cell.  The numbers adjacent to the points are the cluster ids.  Adjacent cells represent clusters that are close 3D in space (adjacent pockets) on the protein. For instance, clusters 5,4,1, and 6 are adjacent to cluster 0.   "
   ]
  },
  {
   "cell_type": "code",
   "execution_count": 19,
   "id": "ae716939",
   "metadata": {},
   "outputs": [
    {
     "data": {
      "image/png": "[encoded data removed]",
      "text/plain": [
       "<Figure size 720x720 with 1 Axes>"
      ]
     },
     "metadata": {},
     "output_type": "display_data"
    }
   ],
   "source": [
    "sns.set(rc={'figure.figsize': (10, 10)})\n",
    "sns.set_style('whitegrid')\n",
    "sns.set_context('talk')\n",
    "cell_df['x'] = [x[0] for x in cell_df.Cell]\n",
    "cell_df['y'] = [x[1] for x in cell_df.Cell]\n",
    "ax = sns.scatterplot(x=\"x\",y='y',size=\"Count\",data=cell_df,sizes=(40,500),color=\"lightblue\")\n",
    "ax.legend(title=\"Count\",loc='upper left', bbox_to_anchor=(1.00, 0.75), ncol=1)\n",
    "cell_df.sort_values('Count',ascending=False)\n",
    "cell_df['ix'] = range(0,len(cell_df))\n",
    "for x,y,ix in cell_df[['x','y','ix']].values:\n",
    "    ax.text(x+0.1,y+0.1,ix)    "
   ]
  },
  {
   "cell_type": "markdown",
   "id": "aa6d4652",
   "metadata": {},
   "source": [
    "Write each cluster to an SD file.  To look at the clusters with PyMol, you can do \n",
    "<pre>\n",
    "pymol 5RS7_aligned.pdb cluster*.sdf\n",
    "</pre>\n",
    "Then, in PyMol, execute these commands\n",
    "<pre>\n",
    "zoom all\n",
    "set all_states,on"
   ]
  },
  {
   "cell_type": "code",
   "execution_count": 20,
   "id": "8fb9e037",
   "metadata": {},
   "outputs": [
    {
     "name": "stdout",
     "output_type": "stream",
     "text": [
      "som_cluster_000.sdf (1, 2) 36\n",
      "som_cluster_001.sdf (0, 4) 24\n",
      "som_cluster_002.sdf (0, 2) 23\n",
      "som_cluster_003.sdf (2, 4) 23\n",
      "som_cluster_004.sdf (2, 3) 21\n",
      "som_cluster_005.sdf (1, 4) 18\n",
      "som_cluster_006.sdf (0, 1) 13\n",
      "som_cluster_007.sdf (0, 3) 13\n",
      "som_cluster_008.sdf (1, 0) 11\n",
      "som_cluster_009.sdf (1, 3) 11\n",
      "som_cluster_010.sdf (3, 4) 9\n",
      "som_cluster_011.sdf (3, 2) 9\n",
      "som_cluster_012.sdf (3, 0) 7\n",
      "som_cluster_013.sdf (2, 0) 7\n",
      "som_cluster_014.sdf (4, 0) 5\n",
      "som_cluster_015.sdf (4, 4) 3\n",
      "som_cluster_016.sdf (3, 1) 3\n",
      "som_cluster_017.sdf (4, 2) 3\n",
      "som_cluster_018.sdf (4, 3) 1\n",
      "som_cluster_019.sdf (0, 0) 1\n",
      "som_cluster_020.sdf (3, 3) 1\n"
     ]
    }
   ],
   "source": [
    "# delete any files named cluster*.sdf\n",
    "for filename in glob(\"som_cluster*.sdf\"):\n",
    "    os.unlink(filename)\n",
    "\n",
    "# write each cluster as an SDF\n",
    "for i,x in enumerate(lig_df.cell.value_counts().index):\n",
    "    cluster_df = lig_df.query(\"cell == @x\")\n",
    "    filename = f\"som_cluster_{i:03d}.sdf\"\n",
    "    print(filename, x, cluster_df.shape[0])\n",
    "    PandasTools.WriteSDF(cluster_df,filename,properties=[\"Name\",\"Sequence\"])"
   ]
  },
  {
   "cell_type": "markdown",
   "id": "41c2da3e",
   "metadata": {},
   "source": [
    "## 5. (Extra) Clustering with HDBSCAN\n",
    "\n",
    "I was reading the post [Geographic Clustering with HDBSCAN](https://towardsdatascience.com/geographic-clustering-with-hdbscan-ef8cb0ed6051) by João Paulo Figueira and though I'd give the approach a try using this dataset.  After all, this data is sort of geographic, right?  Note that number of clusters can be controlled using the parameter **min_cluster_size** in HBDBScan.  Setting this value to a small number gives lots of smaller clusters.  Setting it to a larger value gives a smaller number of large cluster.  Singletons are in cluster -1. "
   ]
  },
  {
   "cell_type": "code",
   "execution_count": 21,
   "id": "37173a09",
   "metadata": {},
   "outputs": [],
   "source": [
    "from hdbscan import HDBSCAN"
   ]
  },
  {
   "cell_type": "code",
   "execution_count": 22,
   "id": "a5447232",
   "metadata": {},
   "outputs": [
    {
     "data": {
      "text/plain": [
       "HDBSCAN(gen_min_span_tree=True, min_cluster_size=2)"
      ]
     },
     "execution_count": 22,
     "metadata": {},
     "output_type": "execute_result"
    }
   ],
   "source": [
    "clusterer = HDBSCAN(min_cluster_size=2, gen_min_span_tree=True)\n",
    "clusterer.fit(X)"
   ]
  },
  {
   "cell_type": "code",
   "execution_count": 23,
   "id": "24c1ea74",
   "metadata": {},
   "outputs": [],
   "source": [
    "lig_df['hdbscan'] = clusterer.labels_"
   ]
  },
  {
   "cell_type": "code",
   "execution_count": 24,
   "id": "2f617d9c",
   "metadata": {},
   "outputs": [
    {
     "data": {
      "text/plain": [
       "-1     47\n",
       " 20    38\n",
       " 10    20\n",
       " 13    17\n",
       " 12    13\n",
       " 16    12\n",
       " 9     11\n",
       " 5      8\n",
       " 14     7\n",
       " 15     7\n",
       " 2      7\n",
       " 7      7\n",
       " 24     5\n",
       " 21     5\n",
       " 6      5\n",
       " 0      4\n",
       " 1      4\n",
       " 8      4\n",
       " 22     4\n",
       " 3      3\n",
       " 4      3\n",
       " 19     3\n",
       " 18     2\n",
       " 11     2\n",
       " 17     2\n",
       " 23     2\n",
       "Name: hdbscan, dtype: int64"
      ]
     },
     "execution_count": 24,
     "metadata": {},
     "output_type": "execute_result"
    }
   ],
   "source": [
    "lig_df.hdbscan.value_counts()"
   ]
  },
  {
   "cell_type": "code",
   "execution_count": 25,
   "id": "109b0df3",
   "metadata": {},
   "outputs": [
    {
     "name": "stdout",
     "output_type": "stream",
     "text": [
      "hdb_cluster_000.sdf -1 47\n",
      "hdb_cluster_001.sdf 20 38\n",
      "hdb_cluster_002.sdf 10 20\n",
      "hdb_cluster_003.sdf 13 17\n",
      "hdb_cluster_004.sdf 12 13\n",
      "hdb_cluster_005.sdf 16 12\n",
      "hdb_cluster_006.sdf 9 11\n",
      "hdb_cluster_007.sdf 5 8\n",
      "hdb_cluster_008.sdf 14 7\n",
      "hdb_cluster_009.sdf 15 7\n",
      "hdb_cluster_010.sdf 2 7\n",
      "hdb_cluster_011.sdf 7 7\n",
      "hdb_cluster_012.sdf 24 5\n",
      "hdb_cluster_013.sdf 21 5\n",
      "hdb_cluster_014.sdf 6 5\n",
      "hdb_cluster_015.sdf 0 4\n",
      "hdb_cluster_016.sdf 1 4\n",
      "hdb_cluster_017.sdf 8 4\n",
      "hdb_cluster_018.sdf 22 4\n",
      "hdb_cluster_019.sdf 3 3\n",
      "hdb_cluster_020.sdf 4 3\n",
      "hdb_cluster_021.sdf 19 3\n",
      "hdb_cluster_022.sdf 18 2\n",
      "hdb_cluster_023.sdf 11 2\n",
      "hdb_cluster_024.sdf 17 2\n",
      "hdb_cluster_025.sdf 23 2\n"
     ]
    }
   ],
   "source": [
    "# delete any files named cluster*.sdf\n",
    "for filename in glob(\"hdb_cluster*.sdf\"):\n",
    "    os.unlink(filename)\n",
    "\n",
    "# write each cluster as an SDF\n",
    "for i,x in enumerate(lig_df.hdbscan.value_counts().index):\n",
    "    cluster_df = lig_df.query(\"hdbscan == @x\")\n",
    "    filename = f\"hdb_cluster_{i:03d}.sdf\"\n",
    "    print(filename, x, cluster_df.shape[0])\n",
    "    PandasTools.WriteSDF(cluster_df,filename,properties=[\"Name\",\"Sequence\"])"
   ]
  },
  {
   "cell_type": "code",
   "execution_count": null,
   "id": "0c5644e3",
   "metadata": {},
   "outputs": [],
   "source": []
  },
  {
   "cell_type": "code",
   "execution_count": null,
   "id": "82097ca4",
   "metadata": {},
   "outputs": [],
   "source": []
  }
 ],
 "metadata": {
  "kernelspec": {
   "display_name": "Python 3 (ipykernel)",
   "language": "python",
   "name": "python3"
  },
  "language_info": {
   "codemirror_mode": {
    "name": "ipython",
    "version": 3
   },
   "file_extension": ".py",
   "mimetype": "text/x-python",
   "name": "python",
   "nbconvert_exporter": "python",
   "pygments_lexer": "ipython3",
   "version": "3.9.10"
  }
 },
 "nbformat": 4,
 "nbformat_minor": 5
}
