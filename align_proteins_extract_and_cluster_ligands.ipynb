{
 "cells": [
  {
   "cell_type": "markdown",
   "id": "f108a9de",
   "metadata": {},
   "source": [
    "[![Open In Colab](https://colab.research.google.com/assets/colab-badge.svg)](https://colab.research.google.com/github/PatWalters/blog_posts/blob/main/align_proteins_extract_and_cluster_ligands.ipynb)"
   ]
  },
  {
   "cell_type": "markdown",
   "id": "7cf5676d",
   "metadata": {},
   "source": [
    "## Clustering Fragment Crystal Structures\n",
    "\n",
    "In this notebook we'll use a few Python libraries to analyze a set of fragment crystal structures reported in [Fragment binding to the Nsp3 macrodomain of SARS-CoV-2 identified through crystallographic screening and computational docking](https://www.science.org/doi/full/10.1126/sciadv.abf8711). Here's a brief outline of the workflow. \n",
    "- Download the x-ray structures from the PDB\n",
    "- Align the structures to a reference structures\n",
    "- Write the aligned protein structures to disk\n",
    "- Extract the ligands and assign bond orders\n",
    "- Write ligands to disk\n",
    "- Cluster using a Self-Organizing MAP (SOM)"
   ]
  },
  {
   "cell_type": "markdown",
   "id": "d61ea74c",
   "metadata": {},
   "source": [
    "## 0. Install libraries\n",
    "Install the necessary packages"
   ]
  },
  {
   "cell_type": "code",
   "execution_count": null,
   "id": "d7f2bd89",
   "metadata": {},
   "outputs": [],
   "source": [
    "!pip install useful_rdkit_utils minisom prody seaborn hdbscan"
   ]
  },
  {
   "cell_type": "code",
   "execution_count": null,
   "id": "6aa6ee4d",
   "metadata": {},
   "outputs": [],
   "source": [
    "from rdkit import Chem\n",
    "from rdkit.Chem import AllChem\n",
    "from rdkit.Chem import PandasTools\n",
    "import pandas as pd\n",
    "from prody import *\n",
    "from tqdm.auto import tqdm\n",
    "from io import StringIO\n",
    "from operator import itemgetter\n",
    "from rdkit import RDLogger \n",
    "import numpy as np\n",
    "from rdkit.Chem.rdMolTransforms import ComputeCentroid\n",
    "from minisom import MiniSom \n",
    "import seaborn as sns\n",
    "from glob import glob\n",
    "import os\n",
    "import useful_rdkit_utils as uru"
   ]
  },
  {
   "cell_type": "markdown",
   "id": "94e94fea",
   "metadata": {},
   "source": [
    "## 1. Setup"
   ]
  },
  {
   "cell_type": "markdown",
   "id": "3a8a6f3c",
   "metadata": {},
   "source": [
    "Enable Pandas progress_apply"
   ]
  },
  {
   "cell_type": "code",
   "execution_count": null,
   "id": "5082da35",
   "metadata": {},
   "outputs": [],
   "source": [
    "tqdm.pandas()"
   ]
  },
  {
   "cell_type": "markdown",
   "id": "90db898c",
   "metadata": {},
   "source": [
    "A few utility functions to make life easier"
   ]
  },
  {
   "cell_type": "code",
   "execution_count": null,
   "id": "cda4da6a",
   "metadata": {},
   "outputs": [],
   "source": [
    "def prody_ligand_bond_order(protein, res_name, res_smiles):\n",
    "    \"\"\"\n",
    "    Extract the ligand with the specified residue name from a Prody molecule and assign bond orders\n",
    "    :param protein: Prody protein\n",
    "    :param res_name: residue with the ligand\n",
    "    :param res_smiles: SMILES for the ligand, used for bond order assignment\n",
    "    :return: RDKit molecule with bond orders assigned\n",
    "    \"\"\"\n",
    "    output = StringIO()\n",
    "    sub_mol = protein.select(f\"resname {res_name}\")\n",
    "    template = AllChem.MolFromSmiles(res_smiles)\n",
    "    template = uru.get_largest_fragment(template)\n",
    "    writePDBStream(output, sub_mol)\n",
    "    pdb_string = output.getvalue()\n",
    "    rd_mol = AllChem.MolFromPDBBlock(pdb_string)\n",
    "    RDLogger.DisableLog('rdApp.warning')  \n",
    "    new_mol = AllChem.AssignBondOrdersFromTemplate(template, rd_mol)\n",
    "    RDLogger.EnableLog('rdApp.warning')  \n",
    "    return new_mol"
   ]
  },
  {
   "cell_type": "markdown",
   "id": "484379bb",
   "metadata": {},
   "source": [
    "## 2. Reading and Processing Data From the PDB\n",
    "### 2.1 Read the Input Data\n",
    "Read the spreadsheet with info on the fragments"
   ]
  },
  {
   "cell_type": "code",
   "execution_count": null,
   "id": "c8595541",
   "metadata": {},
   "outputs": [],
   "source": [
    "df = pd.read_excel(\"https://raw.githubusercontent.com/PatWalters/datafiles/main/20211124_mac1_pdb_lig.xlsx\")"
   ]
  },
  {
   "cell_type": "markdown",
   "id": "b5cdaf03",
   "metadata": {},
   "source": [
    "Make Prody less chatty"
   ]
  },
  {
   "cell_type": "code",
   "execution_count": null,
   "id": "5a98c728",
   "metadata": {},
   "outputs": [],
   "source": [
    "prody.confProDy(verbosity='critical')"
   ]
  },
  {
   "cell_type": "markdown",
   "id": "90f1c080",
   "metadata": {},
   "source": [
    "Set up a reference protein to align the other proteins to"
   ]
  },
  {
   "cell_type": "code",
   "execution_count": null,
   "id": "7980f0c6",
   "metadata": {},
   "outputs": [],
   "source": [
    "ref_prot = prody.parsePDB('5RS7')\n",
    "ref_prot = ref_prot.select(\"chain A\")"
   ]
  },
  {
   "cell_type": "markdown",
   "id": "ef9a2eea",
   "metadata": {},
   "source": [
    "### 2.2 Extract Ligands and Assign Bond Orders\n",
    "1. Align each protein to the reference\n",
    "2. Extract the ligand and assign bond orders\n",
    "3. Build up a list of ligands"
   ]
  },
  {
   "cell_type": "code",
   "execution_count": null,
   "id": "0d7e80a0",
   "metadata": {
    "scrolled": false
   },
   "outputs": [],
   "source": [
    "rd_ligand_list = []\n",
    "for p,smi, res in tqdm(df[['PDB','SMILES','Ligand_RESID']].values):\n",
    "    prot = prody.parsePDB(p)\n",
    "    # break if we can't get the PDB\n",
    "    if prot is None:\n",
    "        continue\n",
    "    # loop over chains and find the first one with the specified ligand\n",
    "    hv = prot.getHierView()\n",
    "    for chain in hv:\n",
    "        if chain.select(f\"resname {res}\"):\n",
    "            # align to the reference\n",
    "            atommaps = prody.alignChains(chain, ref_prot)\n",
    "            top_atommap = atommaps[0]\n",
    "            torf_mapped = top_atommap.getFlags(\"mapped\")\n",
    "            prody.superpose(top_atommap, ref_prot, torf_mapped)\n",
    "            # save the aligned pdb\n",
    "            prody.writePDB(f\"{p}_aligned.pdb\",chain)\n",
    "            \n",
    "            # get the ligand and assign bond orders\n",
    "            rd_lig_mol = prody_ligand_bond_order(chain,res,smi)\n",
    "            rd_lig_mol.SetProp(\"Name\",p)\n",
    "            rd_lig_mol.SetProp(\"_Name\",p)\n",
    "            rd_ligand_list.append(rd_lig_mol)\n",
    "            break"
   ]
  },
  {
   "cell_type": "markdown",
   "id": "1f440d95",
   "metadata": {},
   "source": [
    "Let's see how many ligands we ended up with"
   ]
  },
  {
   "cell_type": "code",
   "execution_count": null,
   "id": "9e579c5c",
   "metadata": {},
   "outputs": [],
   "source": [
    "len(rd_ligand_list)"
   ]
  },
  {
   "cell_type": "markdown",
   "id": "4b7fa706",
   "metadata": {},
   "source": [
    "Save the ligands to a file"
   ]
  },
  {
   "cell_type": "code",
   "execution_count": null,
   "id": "f7e959bb",
   "metadata": {},
   "outputs": [],
   "source": [
    "writer = Chem.SDWriter(\"ligs_complete.sdf\")\n",
    "for mol in rd_ligand_list:\n",
    "    writer.write(mol)\n",
    "writer.close()"
   ]
  },
  {
   "cell_type": "markdown",
   "id": "472eb5ac",
   "metadata": {},
   "source": [
    "### 2.3 Handle Multiple Ligands\n",
    "Some of the pdb files have multiple copies of the same ligand bound in different pockets.  Separate these into individual ligands "
   ]
  },
  {
   "cell_type": "code",
   "execution_count": null,
   "id": "e992b6c5",
   "metadata": {},
   "outputs": [],
   "source": [
    "frag_mol_list = []\n",
    "for idx,mol in enumerate(rd_ligand_list,1):\n",
    "    name = mol.GetProp(\"Name\")\n",
    "    frag_list = Chem.GetMolFrags(mol,asMols=True)\n",
    "    for frag_idx,frag in enumerate(frag_list):\n",
    "        frag.SetProp(\"Name\",name)\n",
    "        frag.SetProp(\"Sequence\",str(frag_idx))\n",
    "        frag.SetProp(\"_Name\",name)\n",
    "        frag_mol_list.append(frag)\n",
    "print(f\"Read {idx} molecules containing {len(frag_mol_list)} fragments\")"
   ]
  },
  {
   "cell_type": "markdown",
   "id": "6ecbc96a",
   "metadata": {},
   "source": [
    "Write the separated ligands to a file"
   ]
  },
  {
   "cell_type": "code",
   "execution_count": null,
   "id": "b443f472",
   "metadata": {},
   "outputs": [],
   "source": [
    "writer = Chem.SDWriter(\"ligs_separated.sdf\")\n",
    "for mol in frag_mol_list:\n",
    "    writer.write(mol)\n",
    "writer.close()"
   ]
  },
  {
   "cell_type": "markdown",
   "id": "65ebc49c",
   "metadata": {},
   "source": [
    "## 3. Calculate the Center of Each Ligand\n",
    "Create a dataframe with the ligands"
   ]
  },
  {
   "cell_type": "code",
   "execution_count": null,
   "id": "057d54ad",
   "metadata": {},
   "outputs": [],
   "source": [
    "lig_df = pd.DataFrame({'ROMol' : frag_mol_list, \n",
    "                       'Name': [x.GetProp(\"Name\") for x in frag_mol_list],\n",
    "                       'Sequence': [x.GetProp(\"Sequence\") for x in frag_mol_list]\n",
    "                      })"
   ]
  },
  {
   "cell_type": "markdown",
   "id": "c9d69528",
   "metadata": {},
   "source": [
    "Calculate the geometric center for each ligand"
   ]
  },
  {
   "cell_type": "code",
   "execution_count": null,
   "id": "019032a0",
   "metadata": {},
   "outputs": [],
   "source": [
    "lig_df['center'] = lig_df.ROMol.progress_apply(uru.get_center)"
   ]
  },
  {
   "cell_type": "markdown",
   "id": "05a7f07f",
   "metadata": {},
   "source": [
    "Create a numpy array containing the ligand centers"
   ]
  },
  {
   "cell_type": "code",
   "execution_count": null,
   "id": "f147fa69",
   "metadata": {},
   "outputs": [],
   "source": [
    "X = np.stack(lig_df.center)"
   ]
  },
  {
   "cell_type": "markdown",
   "id": "892a402c",
   "metadata": {},
   "source": [
    "## 4. Use a Self-Organizing Map (SOM) to Cluster the Ligands\n",
    "I've written blog posts [here](http://practicalcheminformatics.blogspot.com/2018/10/self-organizing-maps-90s-fad-or-useful.html) and [here](http://practicalcheminformatics.blogspot.com/2018/10/self-organizing-maps-code-part-2.html) about SOMs, so I won't provide additional background. \n",
    "\n",
    "Initialize the SOM"
   ]
  },
  {
   "cell_type": "code",
   "execution_count": null,
   "id": "8558e422",
   "metadata": {},
   "outputs": [],
   "source": [
    "som = MiniSom(5,5,3, random_seed=1)\n",
    "som.train(X,1000)\n",
    "cell = [som.winner(i) for i in X]"
   ]
  },
  {
   "cell_type": "markdown",
   "id": "86be087e",
   "metadata": {},
   "source": [
    "Create column in the dataframe to hold the cell ids"
   ]
  },
  {
   "cell_type": "code",
   "execution_count": null,
   "id": "e6707be8",
   "metadata": {},
   "outputs": [],
   "source": [
    "lig_df['cell'] = cell"
   ]
  },
  {
   "cell_type": "code",
   "execution_count": null,
   "id": "6f071a06",
   "metadata": {},
   "outputs": [],
   "source": [
    "lig_df"
   ]
  },
  {
   "cell_type": "markdown",
   "id": "8a253b6e",
   "metadata": {},
   "source": [
    "Create a dataframe to hold the occupied SOM cells"
   ]
  },
  {
   "cell_type": "code",
   "execution_count": null,
   "id": "8f61928b",
   "metadata": {},
   "outputs": [],
   "source": [
    "cell_df = lig_df.cell.value_counts().to_frame().reset_index()\n",
    "cell_df.columns = [\"Cell\",\"Count\"]"
   ]
  },
  {
   "cell_type": "markdown",
   "id": "4cb39e47",
   "metadata": {},
   "source": [
    "Plot the SOM, the point size is proportional to the number of ligands in a cell.  The numbers adjacent to the points are the cluster ids.  Adjacent cells represent clusters that are close 3D in space (adjacent pockets) on the protein. For instance, clusters 5,4,1, and 6 are adjacent to cluster 0.   "
   ]
  },
  {
   "cell_type": "code",
   "execution_count": null,
   "id": "ae716939",
   "metadata": {},
   "outputs": [],
   "source": [
    "sns.set(rc={'figure.figsize': (10, 10)})\n",
    "sns.set_style('whitegrid')\n",
    "sns.set_context('talk')\n",
    "cell_df['x'] = [x[0] for x in cell_df.Cell]\n",
    "cell_df['y'] = [x[1] for x in cell_df.Cell]\n",
    "ax = sns.scatterplot(x=\"x\",y='y',size=\"Count\",data=cell_df,sizes=(40,500),color=\"lightblue\")\n",
    "ax.legend(title=\"Count\",loc='upper left', bbox_to_anchor=(1.00, 0.75), ncol=1)\n",
    "cell_df.sort_values('Count',ascending=False)\n",
    "cell_df['ix'] = range(0,len(cell_df))\n",
    "for x,y,ix in cell_df[['x','y','ix']].values:\n",
    "    ax.text(x+0.1,y+0.1,ix)    "
   ]
  },
  {
   "cell_type": "markdown",
   "id": "aa6d4652",
   "metadata": {},
   "source": [
    "Write each cluster to an SD file.  To look at the clusters with PyMol, you can do \n",
    "<pre>\n",
    "pymol 5RS7_aligned.pdb cluster*.sdf\n",
    "</pre>\n",
    "Then, in PyMol, execute these commands\n",
    "<pre>\n",
    "zoom all\n",
    "set all_states,on"
   ]
  },
  {
   "cell_type": "code",
   "execution_count": null,
   "id": "8fb9e037",
   "metadata": {},
   "outputs": [],
   "source": [
    "# delete any files named cluster*.sdf\n",
    "for filename in glob(\"som_cluster*.sdf\"):\n",
    "    os.unlink(filename)\n",
    "\n",
    "# write each cluster as an SDF\n",
    "for i,x in enumerate(lig_df.cell.value_counts().index):\n",
    "    cluster_df = lig_df.query(\"cell == @x\")\n",
    "    filename = f\"som_cluster_{i:03d}.sdf\"\n",
    "    print(filename, x, cluster_df.shape[0])\n",
    "    PandasTools.WriteSDF(cluster_df,filename,properties=[\"Name\",\"Sequence\"])"
   ]
  },
  {
   "cell_type": "markdown",
   "id": "41c2da3e",
   "metadata": {},
   "source": [
    "## 5. (Extra) Clustering with HDBSCAN\n",
    "\n",
    "I was reading the post [Geographic Clustering with HDBSCAN](https://towardsdatascience.com/geographic-clustering-with-hdbscan-ef8cb0ed6051) by João Paulo Figueira and though I'd give the approach a try using this dataset.  After all, this data is sort of geographic, right?  Note that number of clusters can be controlled using the parameter **min_cluster_size** in HBDBScan.  Setting this value to a small number gives lots of smaller clusters.  Setting it to a larger value gives a smaller number of large cluster.  Singletons are in cluster -1. "
   ]
  },
  {
   "cell_type": "code",
   "execution_count": null,
   "id": "37173a09",
   "metadata": {},
   "outputs": [],
   "source": [
    "from hdbscan import HDBSCAN"
   ]
  },
  {
   "cell_type": "code",
   "execution_count": null,
   "id": "a5447232",
   "metadata": {},
   "outputs": [],
   "source": [
    "clusterer = HDBSCAN(min_cluster_size=2, gen_min_span_tree=True)\n",
    "clusterer.fit(X)"
   ]
  },
  {
   "cell_type": "code",
   "execution_count": null,
   "id": "24c1ea74",
   "metadata": {},
   "outputs": [],
   "source": [
    "lig_df['hdbscan'] = clusterer.labels_"
   ]
  },
  {
   "cell_type": "code",
   "execution_count": null,
   "id": "2f617d9c",
   "metadata": {},
   "outputs": [],
   "source": [
    "lig_df.hdbscan.value_counts()"
   ]
  },
  {
   "cell_type": "code",
   "execution_count": null,
   "id": "109b0df3",
   "metadata": {},
   "outputs": [],
   "source": [
    "# delete any files named cluster*.sdf\n",
    "for filename in glob(\"hdb_cluster*.sdf\"):\n",
    "    os.unlink(filename)\n",
    "\n",
    "# write each cluster as an SDF\n",
    "for i,x in enumerate(lig_df.hdbscan.value_counts().index):\n",
    "    cluster_df = lig_df.query(\"hdbscan == @x\")\n",
    "    filename = f\"hdb_cluster_{i:03d}.sdf\"\n",
    "    print(filename, x, cluster_df.shape[0])\n",
    "    PandasTools.WriteSDF(cluster_df,filename,properties=[\"Name\",\"Sequence\"])"
   ]
  },
  {
   "cell_type": "code",
   "execution_count": null,
   "id": "0c5644e3",
   "metadata": {},
   "outputs": [],
   "source": []
  },
  {
   "cell_type": "code",
   "execution_count": null,
   "id": "82097ca4",
   "metadata": {},
   "outputs": [],
   "source": []
  }
 ],
 "metadata": {
  "kernelspec": {
   "display_name": "Python 3 (ipykernel)",
   "language": "python",
   "name": "python3"
  },
  "language_info": {
   "codemirror_mode": {
    "name": "ipython",
    "version": 3
   },
   "file_extension": ".py",
   "mimetype": "text/x-python",
   "name": "python",
   "nbconvert_exporter": "python",
   "pygments_lexer": "ipython3",
   "version": "3.9.10"
  }
 },
 "nbformat": 4,
 "nbformat_minor": 5
}
